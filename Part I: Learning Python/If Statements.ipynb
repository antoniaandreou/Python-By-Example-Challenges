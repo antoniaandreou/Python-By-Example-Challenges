{
 "cells": [
  {
   "cell_type": "markdown",
   "metadata": {},
   "source": [
    "> **Author:** Antonia Andreou\n",
    "\n",
    "> **Date:** 20th October 2021\n",
    "\n",
    "> **Version:** 1\n",
    "\n",
    "> **Challenges 12-19** from _Python by Example_"
   ]
  },
  {
   "cell_type": "markdown",
   "metadata": {},
   "source": [
    "### Challenge 12 - Ask for 2 numbers. If the first number is larger than the second, display the second number first and then the first number. Otherwise, show the first number first and then the second."
   ]
  },
  {
   "cell_type": "code",
   "execution_count": null,
   "metadata": {},
   "outputs": [],
   "source": [
    "first_no = int(input(\"Provide your first number: \"))\n",
    "second_no = int(input(\"Provide your second number: \"))\n",
    "\n",
    "if first_no > second_no:\n",
    "    print (second_no, first_no)\n",
    "else:\n",
    "    print (first_no, second_no)"
   ]
  },
  {
   "cell_type": "markdown",
   "metadata": {},
   "source": [
    "### Challenge 13 - Ask the user to enter a number below 20. If the number is 20 or more display the message _\"Too High\"_ otherwise display _\"Thank you\"_"
   ]
  },
  {
   "cell_type": "code",
   "execution_count": null,
   "metadata": {},
   "outputs": [],
   "source": [
    "user_no = int(input(\"Provide a number below 20: \"))\n",
    "\n",
    "if user_no >= 20:\n",
    "    print (\"Too High\")\n",
    "else: \n",
    "    print (\"Thank you\")"
   ]
  },
  {
   "cell_type": "markdown",
   "metadata": {},
   "source": [
    "### Challenge 14 - Ask the user to enter a number between 10 and 20 _(inclusive)_. If they enter a number within this range display the message _\"Thank you\"_, otherwise display the message _\"Incorrect answer\"_."
   ]
  },
  {
   "cell_type": "code",
   "execution_count": null,
   "metadata": {},
   "outputs": [],
   "source": [
    "user_no = int(input(\"Provide a number between 10 and 20: \"))\n",
    "\n",
    "if 10 <= user_no <= 20:\n",
    "    print (\"Thank you\")\n",
    "else: \n",
    "    print (\"Incorrect answer\")"
   ]
  },
  {
   "cell_type": "markdown",
   "metadata": {},
   "source": [
    "### Challenge 15 - Ask the user to enter their favourite colour. If they enter \"red\", \"RED\" or \"Red\" display the message _\"I like red too\"_, otherwise display the message _\"I don't like [user colour], i prefer red\"_."
   ]
  },
  {
   "cell_type": "code",
   "execution_count": null,
   "metadata": {},
   "outputs": [],
   "source": [
    "user_colour =  input(\"Type your favourite colour: \")\n",
    "\n",
    "if user_colour.lower() == \"red\":\n",
    "    print (\"I like red too\")\n",
    "else:\n",
    "    print (f\"I dont like {user_colour.lower()}, I prefer red. \")"
   ]
  },
  {
   "cell_type": "markdown",
   "metadata": {},
   "source": [
    "### Challenge 16 - Ask the user _if it is raining_ and convert their answer to lower case so it doesn't matter what case they type it in. If the answer is _\"yes\"_ ask _if it is windy_. If the answer is _\"yes\"_ to this second question display _\"It is too windy for an umbrella\"_ otherwise diplay _\"Take an umbrella\"_. If the answer to the first question is _\"No\"_ then display _\"Have a nice day!\"_."
   ]
  },
  {
   "cell_type": "code",
   "execution_count": null,
   "metadata": {},
   "outputs": [],
   "source": [
    "rainy_q = input (\"Is it raining? \")\n",
    "\n",
    "if rainy_q.lower() == \"yes\":\n",
    "    windy_q = input (\"Is it windy? \")\n",
    "    if windy_q.lower() == \"yes\":\n",
    "        print (\" It is too windy for an umbrella\")\n",
    "    else:\n",
    "        print (\"Take an umbrella!\")\n",
    "else:\n",
    "    print (\"Have a nice day!\")"
   ]
  },
  {
   "cell_type": "markdown",
   "metadata": {},
   "source": [
    "### Challenge 17 - Ask the user's age. If they are 18 or over, diplay the message _\"You can vote\"_. If they are 17, display the massage _\"You can learn to drive\"_. If they are 16, display the message _\"You can buy a lottery ticket\"_. If they are under 16, display the message _\"You can go trick-or-treating\"_."
   ]
  },
  {
   "cell_type": "code",
   "execution_count": null,
   "metadata": {},
   "outputs": [],
   "source": [
    "user_age = int(input(\"What is your age? \"))\n",
    "\n",
    "if user_age < 16:\n",
    "    print (\"You can go trick-or-treating\")\n",
    "elif user_age == 16:\n",
    "    print (\"You can buy a lottery ticket\")\n",
    "elif user_age == 17:\n",
    "    print (\"You can learn to drive\")\n",
    "else:\n",
    "    print (\"You can vote\")"
   ]
  },
  {
   "cell_type": "markdown",
   "metadata": {},
   "source": [
    "### Challenge 18 - Ask the user to enter a number. If the number is under 10, display the message _\"Too low\"_. if the number is between 10 and 20, diplay the messahe _\"Correct\"_. If the number is above 20, diplay the message _\"Too high\"_."
   ]
  },
  {
   "cell_type": "code",
   "execution_count": null,
   "metadata": {},
   "outputs": [],
   "source": [
    "user_no = int(input(\"Type a number: \"))\n",
    "\n",
    "if user_no < 10:\n",
    "    print (\"Too low\")\n",
    "elif 10 <= user_no <= 20:\n",
    "    print (\"Correct\")\n",
    "else:\n",
    "    print (\"Too high\")"
   ]
  },
  {
   "cell_type": "markdown",
   "metadata": {},
   "source": [
    "### Challenge 19 - Ask the user to enter 1, 2 or 3. It they enter 1, display the message _\"Thank you\"_. If they enter 2, display the message _\"Well done\"_. If they enter 3, display the message _\"Correct\"_. Otherwise display _\"Too high\"_."
   ]
  },
  {
   "cell_type": "code",
   "execution_count": null,
   "metadata": {},
   "outputs": [],
   "source": [
    "user_no = int(input(\"Type a number between 1 to 3: \"))\n",
    "\n",
    "answer_no = {\n",
    "            1: \"Thank you\"\n",
    "            , 2: \"Well done\"\n",
    "            , 3: \"Correct\"}.get(user_no, \"Too high\")\n",
    "\n",
    "print (answer_no)"
   ]
  }
 ],
 "metadata": {
  "interpreter": {
   "hash": "aee8b7b246df8f9039afb4144a1f6fd8d2ca17a180786b69acc140d282b71a49"
  },
  "kernelspec": {
   "display_name": "Python 3.10.0 64-bit",
   "name": "python3"
  },
  "language_info": {
   "codemirror_mode": {
    "name": "ipython",
    "version": 3
   },
   "file_extension": ".py",
   "mimetype": "text/x-python",
   "name": "python",
   "nbconvert_exporter": "python",
   "pygments_lexer": "ipython3",
   "version": "3.10.0"
  },
  "orig_nbformat": 4
 },
 "nbformat": 4,
 "nbformat_minor": 2
}
