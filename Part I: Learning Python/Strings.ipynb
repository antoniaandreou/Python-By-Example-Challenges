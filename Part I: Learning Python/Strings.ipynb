{
 "cells": [
  {
   "cell_type": "markdown",
   "metadata": {},
   "source": [
    "> **Author:** Antonia Andreou\n",
    "\n",
    "> **Date:** 21st October 2021\n",
    "\n",
    "> **Version:** 1\n",
    "\n",
    "> **Challenges 20-26** from _Python by Example_"
   ]
  },
  {
   "cell_type": "code",
   "execution_count": null,
   "metadata": {},
   "outputs": [],
   "source": []
  }
 ],
 "metadata": {
  "language_info": {
   "name": "python"
  },
  "orig_nbformat": 4
 },
 "nbformat": 4,
 "nbformat_minor": 2
}
