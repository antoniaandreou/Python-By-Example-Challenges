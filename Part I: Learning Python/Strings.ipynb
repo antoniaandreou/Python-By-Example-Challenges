{
 "cells": [
  {
   "cell_type": "markdown",
   "metadata": {},
   "source": [
    "> **Author:** Antonia Andreou\n",
    "\n",
    "> **Date:** 22nd October 2021\n",
    "\n",
    "> **Version:** 2\n",
    "\n",
    "> **Challenges 20-26** from _Python by Example_"
   ]
  },
  {
   "cell_type": "markdown",
   "metadata": {},
   "source": [
    "### Challenge 20 - Ask the user to enter their first name and then display the length of their name. "
   ]
  },
  {
   "cell_type": "code",
   "execution_count": null,
   "metadata": {},
   "outputs": [],
   "source": [
    "user_name = input(\"What is your name: \")\n",
    "\n",
    "print (len(user_name))"
   ]
  },
  {
   "cell_type": "markdown",
   "metadata": {},
   "source": [
    "### Challenge 21 - Ask the user for their first name and then ask them to enter their surname. Join them together with a space between and display the name  and the length of the whole name."
   ]
  },
  {
   "cell_type": "code",
   "execution_count": null,
   "metadata": {},
   "outputs": [],
   "source": [
    "user_name = input(\"What is your name: \")\n",
    "user_surname = input(\"What is your surname: \")\n",
    "\n",
    "print (user_name.title() + \" \" + user_surname.title())\n",
    "print (len(user_name + \" \" + user_surname))"
   ]
  },
  {
   "cell_type": "markdown",
   "metadata": {},
   "source": [
    "### Challenge 22 - Ask the user to enter their first name and surname in lower case. Change the case to title case and join them together. Display the finished result."
   ]
  },
  {
   "cell_type": "code",
   "execution_count": null,
   "metadata": {},
   "outputs": [],
   "source": [
    "first_name = input(\"What is your first name in lowercase: \").lower()\n",
    "last_name = input(\"What is your last name in lowercase: \").lower()\n",
    "\n",
    "print(first_name)\n",
    "print(first_name.title() + \" \" + last_name.title())"
   ]
  },
  {
   "cell_type": "markdown",
   "metadata": {},
   "source": [
    "### Challenge 23 - Ask the user to type in their first line of a nursery rhyme and display the length of the string. Ask for a starting number and an ending number and then display just that section of the text. "
   ]
  },
  {
   "cell_type": "code",
   "execution_count": null,
   "metadata": {},
   "outputs": [],
   "source": [
    "nursery_rhyme = input(\"Provide the first line of a nursery rhyme: \")\n",
    "\n",
    "# Extra code for verification\n",
    "print (nursery_rhyme)\n",
    "x=0\n",
    "for i in nursery_rhyme:\n",
    "    print (x, nursery_rhyme[x])\n",
    "    x = x + 1\n",
    "\n",
    "print(len(nursery_rhyme))\n",
    "\n",
    "start_position = int(input(\"Provide a number for the starting position of the extract: \"))\n",
    "end_position = int(input(\"Provide a number for the ending position of the extract: \"))\n",
    "\n",
    "print(nursery_rhyme[start_position:end_position])\n"
   ]
  },
  {
   "cell_type": "markdown",
   "metadata": {},
   "source": [
    "### Challenge 24 - Ask the user to type in any word and display it in upper case."
   ]
  },
  {
   "cell_type": "code",
   "execution_count": null,
   "metadata": {},
   "outputs": [],
   "source": [
    "user_word = input(\"Type any word you like: \").upper()\n",
    "print(user_word)"
   ]
  },
  {
   "cell_type": "markdown",
   "metadata": {},
   "source": [
    "### Challenge 25 - Ask the user to enter their first name. If the length of their first name is under five characters, ask them to enter their surname and join them together (without a space) and display the name in upper case. If the length of their first name is five or more characters, display their name in lower case."
   ]
  },
  {
   "cell_type": "code",
   "execution_count": null,
   "metadata": {},
   "outputs": [],
   "source": [
    "user_name = input(\"Enter your name: \")\n",
    "\n",
    "if len(user_name) < 5:\n",
    "    user_surname = input(\"Enter your surname: \")\n",
    "    print(user_name.upper() + user_surname.upper())\n",
    "else:\n",
    "    print(user_name.lower())"
   ]
  },
  {
   "cell_type": "markdown",
   "metadata": {},
   "source": [
    "### Challenge 26 - Pig Latin takes the first consonant of a word, moves it to the end of the word and adds on an _\"ay\"_. If a word begins with a vowel you just add _\"way\"_ to the end. _For example, pig becomes **igpay**, banana becomes **ananabay**, and aadvark becomes **aadvarkway**_. Create a program that will ask the user to enter a word and change it into Pig Latin. Make sure the new word is displayed in lower case."
   ]
  },
  {
   "cell_type": "code",
   "execution_count": null,
   "metadata": {},
   "outputs": [],
   "source": [
    "vowels = ['a', 'e', 'y', 'u', 'i', 'o']\n",
    "\n",
    "user_word = input(\"Type any word: \")\n",
    "if user_word[0] in vowels:\n",
    "    print(user_word + \"way\")\n",
    "else:\n",
    "    print(user_word[1:len(user_word)] + user_word[0] + \"ay\")"
   ]
  }
 ],
 "metadata": {
  "interpreter": {
   "hash": "aee8b7b246df8f9039afb4144a1f6fd8d2ca17a180786b69acc140d282b71a49"
  },
  "kernelspec": {
   "display_name": "Python 3.10.0 64-bit",
   "name": "python3"
  },
  "language_info": {
   "codemirror_mode": {
    "name": "ipython",
    "version": 3
   },
   "file_extension": ".py",
   "mimetype": "text/x-python",
   "name": "python",
   "nbconvert_exporter": "python",
   "pygments_lexer": "ipython3",
   "version": "3.10.0"
  },
  "orig_nbformat": 4
 },
 "nbformat": 4,
 "nbformat_minor": 2
}
