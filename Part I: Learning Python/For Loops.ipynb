{
 "cells": [
  {
   "cell_type": "markdown",
   "metadata": {},
   "source": [
    "> **Author:** Antonia Andreou\n",
    "\n",
    "> **Date:** 27th October 2021\n",
    "\n",
    "> **Version:** 1\n",
    "\n",
    "> **Challenges 35-44** from _Python by Example_"
   ]
  },
  {
   "cell_type": "markdown",
   "metadata": {},
   "source": [
    "### Challenge 35 -  Ask the user to enter their name and then display their name three times"
   ]
  },
  {
   "cell_type": "code",
   "execution_count": null,
   "metadata": {},
   "outputs": [],
   "source": [
    "user_name = input(\"Please enter you name: \")\n",
    "\n",
    "for i in range(3):\n",
    "    print(user_name.title())"
   ]
  },
  {
   "cell_type": "markdown",
   "metadata": {},
   "source": [
    "### Challenge 36 - Alter _challenge 35_ so that it will ask the user to enter their name and a number and then display their name that number of times."
   ]
  },
  {
   "cell_type": "code",
   "execution_count": null,
   "metadata": {},
   "outputs": [],
   "source": [
    "user_name = input(\"Please enter you name: \")\n",
    "no_prints = int(input(\"Enter how many times you want your name to print: \"))\n",
    "\n",
    "for i in range(no_prints):\n",
    "    print(user_name.title())"
   ]
  },
  {
   "cell_type": "markdown",
   "metadata": {},
   "source": [
    "### Challenge 37 - Ask the user to enter their name and display each letter in their name on a seperate line. "
   ]
  },
  {
   "cell_type": "code",
   "execution_count": null,
   "metadata": {},
   "outputs": [],
   "source": [
    "user_name = input(\"Please enter you name: \")\n",
    "\n",
    "for i in range(len(user_name)):\n",
    "    print(user_name[i])"
   ]
  },
  {
   "cell_type": "markdown",
   "metadata": {},
   "source": [
    "### Challenge 38 - Change _challenge 37_ to also ask for a number. Display their name (one letter at a time on each line) and repeat this for the number of times they entered."
   ]
  },
  {
   "cell_type": "code",
   "execution_count": null,
   "metadata": {},
   "outputs": [],
   "source": [
    "user_name = input(\"Please enter you name: \")\n",
    "no_prints = int(input(\"Enter how many times you want your name to print: \"))\n",
    "\n",
    "for i in range(no_prints):\n",
    "    for i in range(len(user_name)):\n",
    "        print(user_name[i])"
   ]
  },
  {
   "cell_type": "markdown",
   "metadata": {},
   "source": [
    "### Challenge 39 - Ask the user to enter a number between 1 and 12 and then display the times tables for that number. "
   ]
  },
  {
   "cell_type": "code",
   "execution_count": null,
   "metadata": {},
   "outputs": [],
   "source": [
    "user_no = int(input(\"Enter a number between 1 and 12: \"))\n",
    "\n",
    "n = 1\n",
    "for i in range(12):\n",
    "    print (f\"{user_no} x {n} = {user_no * n}\")\n",
    "    n = n + 1"
   ]
  },
  {
   "cell_type": "markdown",
   "metadata": {},
   "source": [
    "### Challenge 40 - Ask for a number below 50 and then count down from 50 to that number, making sure you show the number they entered in the output."
   ]
  },
  {
   "cell_type": "code",
   "execution_count": null,
   "metadata": {},
   "outputs": [],
   "source": [
    "user_count_down = int(input(\"Enter a number below 50: \"))\n",
    "\n",
    "n = 50\n",
    "\n",
    "for i in range(n - user_count_down + 1):\n",
    "    print (n)\n",
    "    n = n - 1"
   ]
  },
  {
   "cell_type": "markdown",
   "metadata": {},
   "source": [
    "### Challenge 41 - Ask the user to enter their name and a number. If the number is less than 10, then display their name that number of times. Otherwise dislpay the message _\"Too High\"_ three times. "
   ]
  },
  {
   "cell_type": "code",
   "execution_count": null,
   "metadata": {},
   "outputs": [],
   "source": [
    "user_name = input(\"Enter your name: \")\n",
    "user_no = int(input(\"Enter a number: \"))\n",
    "\n",
    "if user_no < 10:\n",
    "    for i in range(user_no):\n",
    "        print(user_name)\n",
    "else:\n",
    "    for i in range(3):\n",
    "        print(\"Too High\")"
   ]
  },
  {
   "cell_type": "markdown",
   "metadata": {},
   "source": [
    "### Challenge 42 - Set a variable called total to 0. Ask the user to enter five numbers and after each input ask them if they want that number included. If they do, then add the numbers to the total. If they do not want to it included, dont add it to the total. After they have entererd all five numbers, display the total. "
   ]
  },
  {
   "cell_type": "code",
   "execution_count": null,
   "metadata": {},
   "outputs": [],
   "source": [
    "total = 0\n",
    "\n",
    "for i in range(5):\n",
    "    user_no = int(input(\"Enter a number: \"))\n",
    "    decision = input(\"Would you like it to be included? y/n: \")\n",
    "    if decision.lower() == 'y':\n",
    "        total = total + user_no\n",
    "print(total)"
   ]
  },
  {
   "cell_type": "markdown",
   "metadata": {},
   "source": [
    "### Challenge 43 - Ask which direction the user wants to count (up or down). If they select up, then ask them for the top number and then count from 1 to that number. If they select down, ask them to enter a number below 20 and then count down from 20 to that number. If they entered something other than up or down, display the message _\"I don't understand\"_."
   ]
  },
  {
   "cell_type": "code",
   "execution_count": null,
   "metadata": {},
   "outputs": [],
   "source": [
    "user_direction = input(\"Would you like to go up or down?: \")\n",
    "\n",
    "if user_direction.lower() == 'up':\n",
    "    top_no = int(input(\"What is your top number? \"))\n",
    "    n = 1\n",
    "    for i in range(top_no):\n",
    "        print(n)\n",
    "        n = n + 1\n",
    "elif user_direction.lower() == 'down':\n",
    "    down_no = int(input(\"Enter a number below 20: \"))\n",
    "    if down_no < 20:\n",
    "        n = 20\n",
    "        for i in range(20 - down_no + 1):\n",
    "            print(n)\n",
    "            n = n - 1\n",
    "    else:\n",
    "        print(\"Invalid number, please enter a number below 20!\")\n",
    "else:\n",
    "    print(\"I don't understand\")\n"
   ]
  },
  {
   "cell_type": "markdown",
   "metadata": {},
   "source": [
    "### Challenge 44 - Ask how many people the user wants to invite to a party. If they enter a number below 10, ask for the names and after each name display _\"[name] has been invited\"_. If they enter a number which is 10 or higher, display the message _\"Too many people\"_."
   ]
  },
  {
   "cell_type": "code",
   "execution_count": null,
   "metadata": {},
   "outputs": [],
   "source": [
    "party_ppl = int(input(\"How many people would you like to invite to your party? \"))\n",
    "\n",
    "if party_ppl < 10:\n",
    "    for i in range(party_ppl):\n",
    "        ppl_name = input(\"Enter the name of the person you want to invite: \")\n",
    "        print(f\"{ppl_name.title()} have been invited!\")\n",
    "else:\n",
    "    print(\"Too many people\")"
   ]
  }
 ],
 "metadata": {
  "interpreter": {
   "hash": "aee8b7b246df8f9039afb4144a1f6fd8d2ca17a180786b69acc140d282b71a49"
  },
  "kernelspec": {
   "display_name": "Python 3.10.0 64-bit",
   "name": "python3"
  },
  "language_info": {
   "codemirror_mode": {
    "name": "ipython",
    "version": 3
   },
   "file_extension": ".py",
   "mimetype": "text/x-python",
   "name": "python",
   "nbconvert_exporter": "python",
   "pygments_lexer": "ipython3",
   "version": "3.10.0"
  },
  "orig_nbformat": 4
 },
 "nbformat": 4,
 "nbformat_minor": 2
}
