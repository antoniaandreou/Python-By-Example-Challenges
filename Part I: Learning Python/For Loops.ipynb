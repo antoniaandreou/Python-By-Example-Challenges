{
 "cells": [
  {
   "cell_type": "markdown",
   "metadata": {},
   "source": [
    "> **Author:** Antonia Andreou\n",
    "\n",
    "> **Date:** 23rd October 2021\n",
    "\n",
    "> **Version:** 1\n",
    "\n",
    "> **Challenges 35-44** from _Python by Example_"
   ]
  },
  {
   "cell_type": "markdown",
   "metadata": {},
   "source": [
    "### Challenge 35 -  Ask the user to enter their name and then display their name three times"
   ]
  },
  {
   "cell_type": "markdown",
   "metadata": {},
   "source": [
    "### Challenge 36 - Alter _challenge 35_ so that it will ask the user to enter their name and a number and then display their name that number of times."
   ]
  },
  {
   "cell_type": "markdown",
   "metadata": {},
   "source": [
    "### Challenge 37 - Ask the user to enter their name and display each letter in their name on a seperate line. "
   ]
  },
  {
   "cell_type": "markdown",
   "metadata": {},
   "source": [
    "### Challenge 38 - Change _challenge 37_ to also ask for a number. Display their name (one letter at a time on each line) and repeat this for the number of times they entered."
   ]
  },
  {
   "cell_type": "markdown",
   "metadata": {},
   "source": [
    "### Challenge 39 - Ask the user to enter a number between 1 and 12 and then display the times tables for that number. "
   ]
  },
  {
   "cell_type": "markdown",
   "metadata": {},
   "source": [
    "### Challenge 40 - Ask for a number below 50 and then count down from 50 to that number, making sure you show the number they entered in the output."
   ]
  },
  {
   "cell_type": "markdown",
   "metadata": {},
   "source": [
    "### Challenge 41 - Ask the user to enter their name and a number. If the number is less than 10, then display their name that number of times. Otherwise dislpay the message _\"Too High\"_ three times. "
   ]
  },
  {
   "cell_type": "markdown",
   "metadata": {},
   "source": [
    "### Challenge 42 - Set a variable called total to 0. Ask the user to enter five numbers and after each input ask them if they want that number included. If they do, then add the numbers to the total. If they do not want to it included, dont add it to the total. After they have entererd all five numbers, display the total. "
   ]
  },
  {
   "cell_type": "markdown",
   "metadata": {},
   "source": [
    "### Challenge 43 - Ask which direction the user wnats to count (up or down). If they select up, then ask them for the top number and then count from 1 to that number. If they select down, ask them to enter a number below 20 and then count down from 20 to that number. If they entered something other than up or down, display the message _\"I don't understand\"_."
   ]
  },
  {
   "cell_type": "markdown",
   "metadata": {},
   "source": [
    "### Challenge 44 - Ask how many people the user wants to invite to a party. If they enter a number below 10, ask for the names and after each name display _\"[name] has been invited\"_. If they enter a number which is 10 or higher, display the message _\"Too many people\"_."
   ]
  }
 ],
 "metadata": {
  "language_info": {
   "name": "python"
  },
  "orig_nbformat": 4
 },
 "nbformat": 4,
 "nbformat_minor": 2
}
