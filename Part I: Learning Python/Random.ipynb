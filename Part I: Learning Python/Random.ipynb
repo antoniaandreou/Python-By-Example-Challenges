{
 "cells": [
  {
   "cell_type": "markdown",
   "metadata": {},
   "source": [
    "> **Author:** Antonia Andreou\n",
    "\n",
    "> **Date:** 3rd December 2021\n",
    "\n",
    "> **Version:** 1\n",
    "\n",
    "> **Challenges 45-51** from _Python by Example_"
   ]
  },
  {
   "cell_type": "code",
   "execution_count": null,
   "metadata": {},
   "outputs": [],
   "source": [
    "import random"
   ]
  },
  {
   "cell_type": "markdown",
   "metadata": {},
   "source": [
    "Challenge 52 - Display a random integer between 1 and 100 inclusive."
   ]
  },
  {
   "cell_type": "code",
   "execution_count": null,
   "metadata": {},
   "outputs": [],
   "source": [
    "print(random.randint(1,100))"
   ]
  },
  {
   "cell_type": "markdown",
   "metadata": {},
   "source": [
    "Challenge 53 - Display a random fruit from a list of five fruits."
   ]
  },
  {
   "cell_type": "code",
   "execution_count": null,
   "metadata": {},
   "outputs": [],
   "source": [
    "fruits = ['strawberry', 'kiwi', 'apple', 'pear', 'banana', 'grapes']\n",
    "\n",
    "print(random.choice(fruits))"
   ]
  },
  {
   "cell_type": "markdown",
   "metadata": {},
   "source": [
    "Challenge 54 - Randomly choose either heads or tails ('h' or 't'). Ask the user to make their choice. If their choice is the same as the randomly selected value, display the message \"You win\", otherwise display \"Bad Luck\". At the end, tell the user if the computer selected heads or tails."
   ]
  },
  {
   "cell_type": "code",
   "execution_count": null,
   "metadata": {},
   "outputs": [],
   "source": [
    "comp_chose = random.choice(['h', 't'])\n",
    "user_chose = input('Choose heads or tails? h or t: ')\n",
    "if comp_chose == user_chose.lower():\n",
    "    print('You win!')\n",
    "else:\n",
    "    print('Bad luck')\n",
    "\n",
    "print(f'The computer chose {comp_chose}')"
   ]
  },
  {
   "cell_type": "markdown",
   "metadata": {},
   "source": [
    "Challenge 55 - Randomly choose a number between 1 and 5. Ask the user to pick a number. If they guess correctly, display the message \"Well done\", otherwise tell them if they are too high or too low and ask them to pick a second number. If they guess correctly on their second number. If they guess correctly on their second guess display \"Correct\", otherwise display \"You lose\". "
   ]
  },
  {
   "cell_type": "code",
   "execution_count": null,
   "metadata": {},
   "outputs": [],
   "source": [
    "comp_num = random.randint(1, 5)\n",
    "user_num = int(input('Choose a number between 1 and 5 (inclusive): '))\n",
    "print(comp_num)\n",
    "if comp_num == user_num:\n",
    "    print('Well done')\n",
    "else:\n",
    "    if comp_num > user_num:\n",
    "        print('Too low')\n",
    "    else:\n",
    "        print('Too high')\n",
    "    user_2nd_guess = int(input('Guess again: '))\n",
    "    if comp_num == user_2nd_guess:\n",
    "        print('Correct')\n",
    "    else:\n",
    "        print('You lose')"
   ]
  },
  {
   "cell_type": "markdown",
   "metadata": {},
   "source": [
    "Challenge 56 - Randomly pick a whole number between 1 and 10. Ask the user to enter a number and keep entering numbers until they enter the number that was randomly picked. "
   ]
  },
  {
   "cell_type": "code",
   "execution_count": null,
   "metadata": {},
   "outputs": [],
   "source": [
    "comp_int = random.randint(1, 10)\n",
    "user_int = int(input('Take a guess from 1 to 10(inclusive): '))\n",
    "\n",
    "while comp_int != user_int:\n",
    "    user_int = int(input('Guess again: '))\n",
    "else:\n",
    "    print('You got it right')"
   ]
  },
  {
   "cell_type": "markdown",
   "metadata": {},
   "source": [
    "Challenge 57 - Update program 56 so that it tells the user if they are too high or too low before they pick again. "
   ]
  },
  {
   "cell_type": "code",
   "execution_count": null,
   "metadata": {},
   "outputs": [],
   "source": [
    "comp_int = random.randint(1, 10)\n",
    "print(comp_int)\n",
    "user_int = int(input('Take a guess from 1 to 10(inclusive): '))\n",
    "\n",
    "while comp_int != user_int:\n",
    "    if comp_int > user_int:\n",
    "        print('Too low')\n",
    "    else:\n",
    "        print('Too high')\n",
    "    user_int = int(input('Guess again: '))\n",
    "else:\n",
    "    print('You got it right')"
   ]
  },
  {
   "cell_type": "markdown",
   "metadata": {},
   "source": [
    "Challenge 58 - Make a maths quiz that asks five questions by randomly generating two whole numbers to make the question (e.g. [num1]+[num2]). Ask the user to enter the answer. If they get it right add a point to their score. At the end of the quiz, tell them how many they got correct out of five. "
   ]
  },
  {
   "cell_type": "code",
   "execution_count": null,
   "metadata": {},
   "outputs": [],
   "source": [
    "score = 0\n",
    "\n",
    "for i in range(5):\n",
    "\n",
    "    num1 = random.randint(1, 100)\n",
    "    num2 = random.randint(1, 100)\n",
    "    \n",
    "    print(f'{num1} + {num2} = ?')\n",
    "    user_ans = int(input('Enter your answer: '))\n",
    "    \n",
    "    if user_ans == (num1 + num2):\n",
    "        score = score + 1\n",
    "    else:\n",
    "        continue\n",
    "\n",
    "print(f'Your total score is {score} out of 5')  "
   ]
  },
  {
   "cell_type": "markdown",
   "metadata": {},
   "source": [
    "Challenge 59 - Display five colours and ask the user to pick one. If they pick the same as the program has chosen, say \"Well done\", otherwise display a witty answer which involves the correct colour, e.g. \"I bet you are GREEN with envy\" or \"You are probably feeling BLUE right now\". Ask them to guess again; if they still have not got it right, keep giving them the same clue and ask the user to enter a colour until they guess it correctly. "
   ]
  },
  {
   "cell_type": "code",
   "execution_count": null,
   "metadata": {},
   "outputs": [],
   "source": [
    "user_colour = input('Chose a colour from the list [blue, green, red, white, teal] Enter your choice: ')\n",
    "\n",
    "comp_colour = random.choice(['blue', 'green', 'red', 'white', 'teal'])\n",
    "\n",
    "while user_colour.lower() != comp_colour:\n",
    "    if comp_colour == 'blue':\n",
    "        print('Incorrect! I bet you are feeling blue now!')   \n",
    "    elif comp_colour == 'green':\n",
    "        print('I bet you are feeling green with envy now!')\n",
    "    elif comp_colour == 'red':\n",
    "        print('I bet you are red in the face for getting it incorrect')\n",
    "    elif comp_colour == 'teal':\n",
    "        print('Keep trying teal you get it!')\n",
    "    elif comp_colour == 'white':\n",
    "        print('Incorrect! You look white like a ghost from embarressment!')\n",
    "    user_colour = input('Guess again: ')\n",
    "else:\n",
    "    print('Well done')"
   ]
  }
 ],
 "metadata": {
  "interpreter": {
   "hash": "aee8b7b246df8f9039afb4144a1f6fd8d2ca17a180786b69acc140d282b71a49"
  },
  "kernelspec": {
   "display_name": "Python 3.10.0 64-bit",
   "language": "python",
   "name": "python3"
  },
  "language_info": {
   "codemirror_mode": {
    "name": "ipython",
    "version": 3
   },
   "file_extension": ".py",
   "mimetype": "text/x-python",
   "name": "python",
   "nbconvert_exporter": "python",
   "pygments_lexer": "ipython3",
   "version": "3.10.0"
  },
  "orig_nbformat": 4
 },
 "nbformat": 4,
 "nbformat_minor": 2
}
