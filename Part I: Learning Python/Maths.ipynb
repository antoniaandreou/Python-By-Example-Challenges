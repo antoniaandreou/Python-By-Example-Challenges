{
 "cells": [
  {
   "cell_type": "markdown",
   "metadata": {},
   "source": [
    "> **Author:** Antonia Andreou\n",
    "\n",
    "> **Date:** 22nd October 2021\n",
    "\n",
    "> **Version:** 1\n",
    "\n",
    "> **Challenges 27-34** from _Python by Example_"
   ]
  },
  {
   "cell_type": "code",
   "execution_count": null,
   "metadata": {},
   "outputs": [],
   "source": [
    "import math"
   ]
  },
  {
   "cell_type": "markdown",
   "metadata": {},
   "source": [
    "### Challenge 27 - Ask the user to enter a number with lots of decimal places. Multiply this number by two and display the answer."
   ]
  },
  {
   "cell_type": "code",
   "execution_count": null,
   "metadata": {},
   "outputs": [],
   "source": [
    "user_no = float(input(\"Input a number with lots of decimal places: \"))\n",
    "\n",
    "print(user_no * 2)"
   ]
  },
  {
   "cell_type": "markdown",
   "metadata": {},
   "source": [
    "### Challenge 28 - Update _challenge 27_ so that it will display the answer to two decimal places."
   ]
  },
  {
   "cell_type": "code",
   "execution_count": null,
   "metadata": {},
   "outputs": [],
   "source": [
    "# Used the variable above and just added \"round\" function to round up to 2 decimal places.\n",
    "\n",
    "print(round((user_no * 2), 2))"
   ]
  },
  {
   "cell_type": "markdown",
   "metadata": {},
   "source": [
    "### Challenge 29 - Ask the user to enter an integer that is over 500. Work out the square root of that number and display it to two decimal places. "
   ]
  },
  {
   "cell_type": "code",
   "execution_count": null,
   "metadata": {},
   "outputs": [],
   "source": [
    "user_int = int(input(\"Enter an integer above 500: \"))\n",
    "\n",
    "print(round(math.sqrt(user_int),2))"
   ]
  },
  {
   "cell_type": "markdown",
   "metadata": {},
   "source": [
    "### Challenge 30 - Display pi to five decimal places."
   ]
  },
  {
   "cell_type": "code",
   "execution_count": null,
   "metadata": {},
   "outputs": [],
   "source": [
    "print(round(math.pi,5))"
   ]
  },
  {
   "cell_type": "markdown",
   "metadata": {},
   "source": [
    "### Challenge 31 - Ask the user to enter the radius of a circle (measurement from the centre point to the edge). Work out the area of the circle (pi * radius square)."
   ]
  },
  {
   "cell_type": "code",
   "execution_count": null,
   "metadata": {},
   "outputs": [],
   "source": [
    "radius = float(input(\"Enter the radius of your circle: \"))\n",
    "\n",
    "print(round(math.pi*(radius ** 2), 2))"
   ]
  },
  {
   "cell_type": "markdown",
   "metadata": {},
   "source": [
    "### Challenge 32 - Ask for the radius and the depth of a cylinder and work out the total volume (circle area * depth) rounded to three decimal places."
   ]
  },
  {
   "cell_type": "code",
   "execution_count": null,
   "metadata": {},
   "outputs": [],
   "source": [
    "radius = float(input(\"Enter the radius of your cylinder: \"))\n",
    "depth = float(input(\"Enter the depth of your cylinder: \"))\n",
    "\n",
    "print(round((math.pi * (radius ** 2)) * depth, 2))"
   ]
  },
  {
   "cell_type": "markdown",
   "metadata": {},
   "source": [
    "### Challenge 33 - Ask the user to enter two numbers. Use whole number division to divide the first number by the second and also work out the remainder. Display the answer in a user-friendly way _(e.g. if they enter 7 and 2 display **\"7 divided by 2 is 3 with 1 remaining\"**)_"
   ]
  },
  {
   "cell_type": "code",
   "execution_count": null,
   "metadata": {},
   "outputs": [],
   "source": [
    "first_no = int(input(\"Provide your first number: \"))\n",
    "second_no = int(input(\"Provide your second number: \"))\n",
    "\n",
    "division = first_no // second_no\n",
    "left_over = first_no % second_no\n",
    "\n",
    "print(f\"{first_no} divided by {second_no} is {division} with {left_over} remaining\")"
   ]
  },
  {
   "cell_type": "markdown",
   "metadata": {},
   "source": [
    "### Challenge 34 - Display the following message:\n",
    "- ## 1) Square\n",
    "- ## 2) Triangle\n",
    "\n",
    "## Enter a number:\n",
    "\n",
    "### If the user enter 1, then it should ask them for the length of one of its sides and display the area. \n",
    "### If they select 2, it should ask for the base and height of the triangle and display the area.\n",
    "### If they type anything else, it should give them a suitable error message."
   ]
  },
  {
   "cell_type": "code",
   "execution_count": null,
   "metadata": {},
   "outputs": [],
   "source": [
    "choices = int(input(\"Choose between \\n1. Square \\n2. Triangle \\n \\nEnter a number: \"))\n",
    "\n",
    "if choices == 1:\n",
    "    side_len = float(input(\"Provide the length of the side of your square: \"))\n",
    "    print(f\"The area of your square is {round(side_len ** 2, 2)}\")\n",
    "elif choices == 2:\n",
    "    tri_base = float(input(\"Provide the base of your triangle: \"))\n",
    "    tri_height = float(input(\"Provide the height of your triangle: \"))\n",
    "    print(f\"The area of your triangle is {round(0.5 * tri_base * tri_height, 2)}\")\n",
    "else:\n",
    "    print(\"That is not an option. Please enter either 1 or 2\")\n"
   ]
  }
 ],
 "metadata": {
  "interpreter": {
   "hash": "aee8b7b246df8f9039afb4144a1f6fd8d2ca17a180786b69acc140d282b71a49"
  },
  "kernelspec": {
   "display_name": "Python 3.10.0 64-bit",
   "name": "python3"
  },
  "language_info": {
   "codemirror_mode": {
    "name": "ipython",
    "version": 3
   },
   "file_extension": ".py",
   "mimetype": "text/x-python",
   "name": "python",
   "nbconvert_exporter": "python",
   "pygments_lexer": "ipython3",
   "version": "3.10.0"
  },
  "orig_nbformat": 4
 },
 "nbformat": 4,
 "nbformat_minor": 2
}
