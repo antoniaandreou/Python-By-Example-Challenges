{
 "cells": [
  {
   "cell_type": "markdown",
   "metadata": {},
   "source": [
    "> **Author:** Antonia Andreou\n",
    "\n",
    "> **Date:** 22nd October 2021\n",
    "\n",
    "> **Version:** 1\n",
    "\n",
    "> **Challenges 27-34** from _Python by Example_"
   ]
  },
  {
   "cell_type": "markdown",
   "metadata": {},
   "source": [
    "### Challenge 27 - Ask the user to enter a number with lots of decimal places. Multiply this number by two and display the answer."
   ]
  },
  {
   "cell_type": "markdown",
   "metadata": {},
   "source": [
    "### Challenge 28 - Update _challenge 27_ so that it will display the answer to two decimal places."
   ]
  },
  {
   "cell_type": "markdown",
   "metadata": {},
   "source": [
    "### Challenge 29 - Ask the user to enter an integer that is over 500. Work out the square root of that number and display it to two decimal places. "
   ]
  },
  {
   "cell_type": "markdown",
   "metadata": {},
   "source": [
    "### Challenge 30 - Display pi to five decimal places."
   ]
  },
  {
   "cell_type": "markdown",
   "metadata": {},
   "source": [
    "### Challenge 31 - Ask the user to enter the radius of a circle (measurement from the centre point to the edge). Work out the area of the circle (pi * radius square)."
   ]
  },
  {
   "cell_type": "markdown",
   "metadata": {},
   "source": [
    "### Challenge 32 - Ask for the radius and the depth of a cylinder and work out the total volume (circle are * depth) rounded to three decimal places."
   ]
  },
  {
   "cell_type": "markdown",
   "metadata": {},
   "source": [
    "### Challenge 33 - Ask the user to enter two numbers. Use whole number division to divide the first number by the second and also work out the remainder. Display the answer in a user-friendly way _(e.g. if they enter 7 and 2 display **\"7 divided by 2 is 3 with 1 remaining\"**)_"
   ]
  },
  {
   "cell_type": "markdown",
   "metadata": {},
   "source": [
    "### Challenge 34 - Display the following message:\n",
    "- ## 1) Square\n",
    "- ## 2) Triangle\n",
    "\n",
    "## Enter a number:\n",
    "\n",
    "### If the user enter 1, then it should ask them for the length of one of its sides and display the area. \n",
    "### If they select 2, it should ask for the base and height of the triangle and display the area.\n",
    "### If they type anything else, it should give them a suitable error message."
   ]
  }
 ],
 "metadata": {
  "language_info": {
   "name": "python"
  },
  "orig_nbformat": 4
 },
 "nbformat": 4,
 "nbformat_minor": 2
}
