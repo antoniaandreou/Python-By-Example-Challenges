{
 "cells": [
  {
   "cell_type": "markdown",
   "metadata": {},
   "source": [
    "\n",
    "> **Author:** Antonia Andreou\n",
    "\n",
    "> **Date:** 19th October 2021\n",
    "\n",
    "> **Version:** 1\n",
    "\n",
    "> **Challenges 1-11** from _Python by Example_\n"
   ]
  },
  {
   "cell_type": "markdown",
   "metadata": {},
   "source": [
    "### Challenge 1 - Ask for the user's first name and display the output message "
   ]
  },
  {
   "cell_type": "code",
   "execution_count": 1,
   "metadata": {},
   "outputs": [
    {
     "name": "stdout",
     "output_type": "stream",
     "text": [
      "Hello Antonia\n"
     ]
    }
   ],
   "source": [
    "first_name = input(\"What is your first name? \")\n",
    "print (f\"Hello {first_name}\")"
   ]
  },
  {
   "cell_type": "markdown",
   "metadata": {},
   "source": [
    "### Challenge 2 - Ask for the user's first name and then ask for their surname and display the output message"
   ]
  },
  {
   "cell_type": "code",
   "execution_count": 2,
   "metadata": {},
   "outputs": [
    {
     "name": "stdout",
     "output_type": "stream",
     "text": [
      "Hello Antonia Andreou\n"
     ]
    }
   ],
   "source": [
    "first_name = input(\"What is your first name? \")\n",
    "last_name = input(\"What is your last name? \")\n",
    "print (f\"Hello {first_name} {last_name}\")"
   ]
  },
  {
   "cell_type": "markdown",
   "metadata": {},
   "source": [
    "### Challenge 3 - Write code that will display the joke \"What do you call a bear with no teeth?\" and on the next line display the answer \"A gummy bear!\" _Try to create it using only one line of code_"
   ]
  },
  {
   "cell_type": "code",
   "execution_count": 3,
   "metadata": {},
   "outputs": [
    {
     "name": "stdout",
     "output_type": "stream",
     "text": [
      "What do you call a bear with no teeth \n",
      "A gummy bear!\n"
     ]
    }
   ],
   "source": [
    "print (\"What do you call a bear with no teeth \\nA gummy bear!\") "
   ]
  },
  {
   "cell_type": "markdown",
   "metadata": {},
   "source": [
    "### Challenge 4 - Ask the user to enter 2 numbers, add them together and display the answer"
   ]
  },
  {
   "cell_type": "code",
   "execution_count": 4,
   "metadata": {},
   "outputs": [
    {
     "name": "stdout",
     "output_type": "stream",
     "text": [
      "Your total is 12\n"
     ]
    }
   ],
   "source": [
    "first_no = int(input(\"Please provide your first number: \"))\n",
    "second_no = int(input(\"Please provide your second number: \"))\n",
    "print(f\"Your total is {first_no + second_no}\")"
   ]
  },
  {
   "cell_type": "markdown",
   "metadata": {},
   "source": [
    "### Challenge 5 - Ask the user to enter 3 numbers. Add the first 2 and multiply their total by the third number. Display the answer"
   ]
  },
  {
   "cell_type": "code",
   "execution_count": 5,
   "metadata": {},
   "outputs": [
    {
     "name": "stdout",
     "output_type": "stream",
     "text": [
      "Your total is 8\n"
     ]
    }
   ],
   "source": [
    "first_no = int(input(\"Please provide your first number: \"))\n",
    "second_no = int(input(\"Please provide your second number: \"))\n",
    "third_no = int(input(\"Please provide your third number: \"))\n",
    "print(f\"Your total is {(first_no + second_no)*third_no}\")"
   ]
  },
  {
   "cell_type": "markdown",
   "metadata": {},
   "source": [
    "### Challenge 6 - Ask the user how many slices of pizza they started with & how many they have eaten. Work out how many slices they have left and display the answer in a user friendly format. "
   ]
  }
 ],
 "metadata": {
  "interpreter": {
   "hash": "aee8b7b246df8f9039afb4144a1f6fd8d2ca17a180786b69acc140d282b71a49"
  },
  "kernelspec": {
   "display_name": "Python 3.10.0 64-bit",
   "name": "python3"
  },
  "language_info": {
   "codemirror_mode": {
    "name": "ipython",
    "version": 3
   },
   "file_extension": ".py",
   "mimetype": "text/x-python",
   "name": "python",
   "nbconvert_exporter": "python",
   "pygments_lexer": "ipython3",
   "version": "3.10.0"
  },
  "orig_nbformat": 4
 },
 "nbformat": 4,
 "nbformat_minor": 2
}
