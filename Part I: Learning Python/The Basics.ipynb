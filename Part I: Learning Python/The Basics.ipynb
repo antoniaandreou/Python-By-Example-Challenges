{
 "cells": [
  {
   "cell_type": "markdown",
   "metadata": {},
   "source": [
    "\n",
    "> **Author:** Antonia Andreou\n",
    "\n",
    "> **Date:** 19th October 2021\n",
    "\n",
    "> **Version:** 1\n",
    "\n",
    "> **Challenges 1-11** from _Python by Example_\n"
   ]
  },
  {
   "cell_type": "markdown",
   "metadata": {},
   "source": [
    "### Challenge 1 - Ask for the user's first name and display the output message "
   ]
  },
  {
   "cell_type": "code",
   "execution_count": null,
   "metadata": {},
   "outputs": [],
   "source": [
    "first_name = input(\"What is your first name? \")\n",
    "print (f\"Hello {first_name}\")"
   ]
  },
  {
   "cell_type": "markdown",
   "metadata": {},
   "source": [
    "### Challenge 2 - Ask for the user's first name and then ask for their surname and display the output message"
   ]
  },
  {
   "cell_type": "code",
   "execution_count": null,
   "metadata": {},
   "outputs": [],
   "source": [
    "first_name = input(\"What is your first name? \")\n",
    "last_name = input(\"What is your last name? \")\n",
    "print (f\"Hello {first_name} {last_name}\")"
   ]
  },
  {
   "cell_type": "markdown",
   "metadata": {},
   "source": [
    "### Challenge 3 - Write code that will display the joke \"What do you call a bear with no teeth?\" and on the next line display the answer \"A gummy bear!\" _Try to create it using only one line of code_"
   ]
  },
  {
   "cell_type": "code",
   "execution_count": null,
   "metadata": {},
   "outputs": [],
   "source": [
    "print (\"What do you call a bear with no teeth \\nA gummy bear!\") "
   ]
  },
  {
   "cell_type": "markdown",
   "metadata": {},
   "source": [
    "### Challenge 4 - Ask the user to enter 2 numbers, add them together and display the answer"
   ]
  },
  {
   "cell_type": "code",
   "execution_count": null,
   "metadata": {},
   "outputs": [],
   "source": [
    "first_no = int(input(\"Please provide your first number: \"))\n",
    "second_no = int(input(\"Please provide your second number: \"))\n",
    "print(f\"Your total is {first_no + second_no}\")"
   ]
  },
  {
   "cell_type": "markdown",
   "metadata": {},
   "source": [
    "### Challenge 5 - Ask the user to enter 3 numbers. Add the first 2 and multiply their total by the third number. Display the answer"
   ]
  },
  {
   "cell_type": "code",
   "execution_count": null,
   "metadata": {},
   "outputs": [],
   "source": [
    "first_no = int(input(\"Please provide your first number: \"))\n",
    "second_no = int(input(\"Please provide your second number: \"))\n",
    "third_no = int(input(\"Please provide your third number: \"))\n",
    "print(f\"Your total is {(first_no + second_no)*third_no}\")"
   ]
  },
  {
   "cell_type": "markdown",
   "metadata": {},
   "source": [
    "### Challenge 6 - Ask the user how many slices of pizza they started with & how many they have eaten. Work out how many slices they have left and display the answer in a user friendly format. "
   ]
  },
  {
   "cell_type": "code",
   "execution_count": null,
   "metadata": {},
   "outputs": [],
   "source": [
    "total_slices = int(input(\"How many slices were there in total for your pizza? \"))\n",
    "eaten_slices = int(input(\"How many slices did you eat? \"))\n",
    "print(f\"You have {total_slices - eaten_slices} left of your pizza\")"
   ]
  },
  {
   "cell_type": "markdown",
   "metadata": {},
   "source": [
    "### Challenge 7 - Ask the user for their name and their age. Add 1 to their age and display their new age on their next birthday"
   ]
  },
  {
   "cell_type": "code",
   "execution_count": null,
   "metadata": {},
   "outputs": [],
   "source": [
    "first_name = input(\"What is your first name? \")\n",
    "current_age = int(input(\"How old are you? \"))\n",
    "print (f\"{first_name.title()} next birthday you will be {current_age + 1}\")"
   ]
  },
  {
   "cell_type": "markdown",
   "metadata": {},
   "source": [
    "### Challenge 8 - Ask for the total price of the bill & then how many diners there are. Divide the total bill by the number of diners and show how much each person must pay."
   ]
  },
  {
   "cell_type": "code",
   "execution_count": null,
   "metadata": {},
   "outputs": [],
   "source": [
    "total_bill = float(input(\"What is the total bill amount? \"))\n",
    "diners = int(input(\"How many diners are there in total? \"))\n",
    "print(f\"Each diner much pay {round(total_bill / diners, 2)}\")"
   ]
  },
  {
   "cell_type": "markdown",
   "metadata": {},
   "source": [
    "### Challenge 9 - Write a program that will ask for a number of days and then will show how many hours, minutes and seconds are in that number of days."
   ]
  },
  {
   "cell_type": "code",
   "execution_count": null,
   "metadata": {},
   "outputs": [],
   "source": [
    "user_days = int(input(\"Input a number of days: \"))\n",
    "print(f\"{user_days} days have {user_days * 24} hours, {user_days * 24 * 60} minutes and {user_days * 24 * 60 * 60} seconds\")"
   ]
  },
  {
   "cell_type": "markdown",
   "metadata": {},
   "source": [
    "### Challenge 10 - There are 2.204 pounds in a kilogram. Ask the user for their weight in kilograms and convert it to pounds. "
   ]
  },
  {
   "cell_type": "code",
   "execution_count": null,
   "metadata": {},
   "outputs": [],
   "source": [
    "user_weight = float(input(\"What is your weight in kilograms? \"))\n",
    "print(f\"You weigh {round(user_weight * 2.204, 2)} pounds\")"
   ]
  },
  {
   "cell_type": "markdown",
   "metadata": {},
   "source": [
    "### Challenge 11 - Task the user to enter a number over 100 and then enter a number under 10. Tell them how many times the smaller number goes into the larger number in a user-friendly format."
   ]
  },
  {
   "cell_type": "code",
   "execution_count": null,
   "metadata": {},
   "outputs": [],
   "source": [
    "large_int = int(input(\"Provide an integer over 100: \"))\n",
    "small_int = int(input(\"Now, provide a number under 10: \"))\n",
    "print(f\"{small_int} goes {large_int//small_int} into {large_int}\")"
   ]
  }
 ],
 "metadata": {
  "interpreter": {
   "hash": "aee8b7b246df8f9039afb4144a1f6fd8d2ca17a180786b69acc140d282b71a49"
  },
  "kernelspec": {
   "display_name": "Python 3.10.0 64-bit",
   "name": "python3"
  },
  "language_info": {
   "codemirror_mode": {
    "name": "ipython",
    "version": 3
   },
   "file_extension": ".py",
   "mimetype": "text/x-python",
   "name": "python",
   "nbconvert_exporter": "python",
   "pygments_lexer": "ipython3",
   "version": "3.10.0"
  },
  "orig_nbformat": 4
 },
 "nbformat": 4,
 "nbformat_minor": 2
}
