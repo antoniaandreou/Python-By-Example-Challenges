{
 "cells": [
  {
   "cell_type": "markdown",
   "metadata": {},
   "source": [
    "> **Author:** Antonia Andreou\n",
    "\n",
    "> **Date:** 3rd December 2021\n",
    "\n",
    "> **Version:** 1\n",
    "\n",
    "> **Challenges 45-51** from _Python by Example_"
   ]
  },
  {
   "cell_type": "markdown",
   "metadata": {},
   "source": [
    "### Challenge 45 - Set the total to 0 to start with. While the total is 50 or less, ask the user to input a number. Add that number to the total and print the message _\"The total is ... [total]_. Stop the loop when the total is over 50. "
   ]
  },
  {
   "cell_type": "code",
   "execution_count": null,
   "metadata": {},
   "outputs": [],
   "source": [
    "total = 0\n",
    "while total <= 50:\n",
    "    user_no = int(input(\"Enter a number: \"))\n",
    "    total = total + user_no\n",
    "    print(f'The total is {total}')\n"
   ]
  },
  {
   "cell_type": "markdown",
   "metadata": {},
   "source": [
    "### Challenge 46 - Ask the user to enter a number. Keep asking until they enter a value _over 5_ and then display the message _\"The last number you entered was a [number]\" and stop the program. "
   ]
  },
  {
   "cell_type": "code",
   "execution_count": null,
   "metadata": {},
   "outputs": [],
   "source": [
    "number = 0\n",
    "while number <= 5:\n",
    "    user_no = int(input('Provide a number: '))\n",
    "    number = user_no\n",
    "else:\n",
    "    print(f'The last number you entered was a {number}')"
   ]
  },
  {
   "cell_type": "markdown",
   "metadata": {},
   "source": [
    "### Challenge 47 - Ask the user to enter a number and then enter another number. Add these two numbers together and then ask if they want to add another number. If they enter \"y\", ask them to enter another number and keep adding numbers until they do not answer \"y\". Once the loop has stopped, display the total. "
   ]
  },
  {
   "cell_type": "code",
   "execution_count": null,
   "metadata": {},
   "outputs": [],
   "source": [
    "user_no_1 = int(input('Enter your first number: '))\n",
    "user_no_2 = int(input('Enter your second number: '))\n",
    "total = user_no_1 + user_no_2\n",
    "\n",
    "user_input = input('Would you like to add another number (y/n): ')\n",
    "\n",
    "while user_input.lower() == 'y':\n",
    "    user_add_no = int(input('Enter another number: '))\n",
    "    total = total + user_add_no\n",
    "    user_input = input('Would you like to add another number (y/n): ')\n",
    "else:\n",
    "    print(f'Your total is {total}')"
   ]
  },
  {
   "cell_type": "markdown",
   "metadata": {},
   "source": [
    "### Challenge 48 - Ask for the name of somebody the user wants to invite to a party. After this, display the message _\"[name] has now been invited\"_ and add 1 to the count. Then ask if they want to invite somebody else. Keep repeating this until they no longer want to invite anyone else to the party and then display how many people they have coming to the party. "
   ]
  },
  {
   "cell_type": "code",
   "execution_count": null,
   "metadata": {},
   "outputs": [],
   "source": [
    "user_invite = input('Who would you like to invite to your party? ')\n",
    "print(f'{user_invite.title()} has now been invited')\n",
    "count = 1\n",
    "\n",
    "additional_invite = input('Would you like to invite someone else? (y/n) ')\n",
    "\n",
    "while additional_invite.lower() == 'y':\n",
    "    user_invite = input('Who would you like to invite to your party? ')\n",
    "    print(f'{user_invite.title()} has now been invited')\n",
    "    count = count + 1\n",
    "    additional_invite = input('Would you like to invite someone else? (y/n) ')\n",
    "else:\n",
    "    print(f'{count} have been invited to your party')"
   ]
  },
  {
   "cell_type": "markdown",
   "metadata": {},
   "source": [
    "### Challenge 49 - Create a variable called compnum and set the value to 50. Ask the user to enter a number. While their guess is not the same as the compnum value, tell them if their guess is too low or too high and ask them to have another guess. If they enter the same value as compnum, display the message _\"Well done, you took [count] attempts\"_."
   ]
  },
  {
   "cell_type": "code",
   "execution_count": null,
   "metadata": {},
   "outputs": [],
   "source": [
    "compnum = 50\n",
    "\n",
    "user_no = int(input('Please provide a number: '))\n",
    "\n",
    "count = 0\n",
    "while user_no != compnum:\n",
    "    if user_no > compnum:\n",
    "        print('Too High')\n",
    "    elif user_no < compnum:\n",
    "        print ('Too Low')\n",
    "    count = count + 1\n",
    "    user_no = int(input('Please provide a number: '))\n",
    "else:\n",
    "    print(f'Well done, you took {count} attempts')"
   ]
  },
  {
   "cell_type": "markdown",
   "metadata": {},
   "source": [
    "### Challenge 50 - Ask the user to enter a number between 10 and 20. If they enter a value under 10, display the message _\"Too low\"_ and ask them to try again. If they enter a value above 20, display the message _\"Too high\"_ and ask them to try again. Keep repeating this until they enter a value that is between 10 and 20 and then displau the messahe _\"Thank you\"_"
   ]
  },
  {
   "cell_type": "code",
   "execution_count": null,
   "metadata": {},
   "outputs": [],
   "source": []
  },
  {
   "cell_type": "markdown",
   "metadata": {},
   "source": [
    "### Challenge 51 - Using the song \"10 green bottles\", display the lines _\"There are [num] green bottles hanging on the wall, and if 1 green botthe should accedentally fall\"_. Then ask the question _\"How many green bottles will be hanging on the wall?\"_. If the user answers correctly, display the message _\"There will be [num] green bottles hanging on the wall\"_. If they answer incorrectly, display the message _\"No, try again\"_ until they get it right. When the number of green bottles gets down to 0, display the message _\"There are no more green bottles hanging on the wall\"_. "
   ]
  },
  {
   "cell_type": "code",
   "execution_count": null,
   "metadata": {},
   "outputs": [],
   "source": []
  }
 ],
 "metadata": {
  "interpreter": {
   "hash": "aee8b7b246df8f9039afb4144a1f6fd8d2ca17a180786b69acc140d282b71a49"
  },
  "kernelspec": {
   "display_name": "Python 3.10.0 64-bit",
   "name": "python3"
  },
  "language_info": {
   "codemirror_mode": {
    "name": "ipython",
    "version": 3
   },
   "file_extension": ".py",
   "mimetype": "text/x-python",
   "name": "python",
   "nbconvert_exporter": "python",
   "pygments_lexer": "ipython3",
   "version": "3.10.0"
  },
  "orig_nbformat": 4
 },
 "nbformat": 4,
 "nbformat_minor": 2
}
